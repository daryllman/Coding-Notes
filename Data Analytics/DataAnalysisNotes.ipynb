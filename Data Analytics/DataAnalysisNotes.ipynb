{
 "cells": [
  {
   "cell_type": "markdown",
   "metadata": {},
   "source": [
    "# Data Analysis with Python & Pandas Notes\n",
    "This set of notes will contain the essentials of Data Analysis with regards to manipulating data with **Python** & **Pandas**\n",
    "## Table of Contents\n",
    "1. Loading Data into Pandas\n",
    "2. Reading Data in Pandas\n",
    "3. Describing Data\n",
    "4. Making Changes to Data"
   ]
  },
  {
   "cell_type": "markdown",
   "metadata": {},
   "source": [
    "# 1. Loading Data into Pandas\n",
    "We load the data into a DataFrame (df) and manipulate the data from this df."
   ]
  },
  {
   "cell_type": "markdown",
   "metadata": {},
   "source": [
    "To find out which directory you are on currently"
   ]
  },
  {
   "cell_type": "code",
   "execution_count": null,
   "metadata": {},
   "outputs": [],
   "source": [
    "pwd"
   ]
  },
  {
   "cell_type": "code",
   "execution_count": null,
   "metadata": {},
   "outputs": [],
   "source": [
    "import pandas as pd\n",
    "\n",
    "#If your file is in csv format\n",
    "df = pd.read_csv('pokemon_data.csv')\n",
    "\n",
    "#If your file is in excel (xlsx) format\n",
    "#df = pd.read_excel('pokemon_data.xlsx')\n",
    "\n",
    "#If your file is in txt format (and data is separated by tabs - need to specify delimiter for this)\n",
    "#df = pd.read_csv('pokemon_data.txt', delimiter = '\\t')"
   ]
  },
  {
   "cell_type": "code",
   "execution_count": null,
   "metadata": {},
   "outputs": [],
   "source": [
    "print(df)"
   ]
  },
  {
   "cell_type": "code",
   "execution_count": null,
   "metadata": {},
   "outputs": [],
   "source": [
    "#To only show the top few rows of datasets\n",
    "\n",
    "#print(df.head()) #default is top 5 rows.\n",
    "print(df.head(3))"
   ]
  },
  {
   "cell_type": "markdown",
   "metadata": {},
   "source": [
    "# 2. Reading Data in Pandas"
   ]
  },
  {
   "cell_type": "code",
   "execution_count": null,
   "metadata": {},
   "outputs": [],
   "source": [
    "#############################\n",
    "# Read the Headers\n",
    "#############################\n",
    "\n",
    "print(df.columns()) #this returns a list of the headers"
   ]
  },
  {
   "cell_type": "code",
   "execution_count": null,
   "metadata": {},
   "outputs": [],
   "source": [
    "#############################\n",
    "# Read each Column\n",
    "#############################\n",
    "\n",
    "print(df['Name'])#print out all the names of pokemon\n",
    "\n",
    "print(df['Name'][0:5])#print out the top 5 names of pokemon"
   ]
  },
  {
   "cell_type": "code",
   "execution_count": null,
   "metadata": {},
   "outputs": [],
   "source": [
    "#############################\n",
    "# Read multiple Columns\n",
    "#############################\n",
    "\n",
    "print(df['Name', 'Type 1', 'HP'])"
   ]
  },
  {
   "cell_type": "code",
   "execution_count": null,
   "metadata": {},
   "outputs": [],
   "source": [
    "#############################\n",
    "# Read each Row\n",
    "#############################\n",
    "\n",
    "print(df.iloc[1]) #iloc: individual location\n",
    "\n",
    "\n",
    "for index, row in df.iterrows():\n",
    "    print(index, row)\n",
    "    \n",
    "    \n",
    "for index, row in df.iterrows():\n",
    "    print(index, row['Name'])"
   ]
  },
  {
   "cell_type": "code",
   "execution_count": null,
   "metadata": {},
   "outputs": [],
   "source": [
    "#############################\n",
    "# Read multiple Rows\n",
    "#############################\n",
    "\n",
    "print(df.iloc[1:4])"
   ]
  },
  {
   "cell_type": "code",
   "execution_count": null,
   "metadata": {},
   "outputs": [],
   "source": [
    "################################\n",
    "# Read a specific location (R,C)\n",
    "################################\n",
    "\n",
    "print(df.iloc[2,1])"
   ]
  },
  {
   "cell_type": "code",
   "execution_count": null,
   "metadata": {},
   "outputs": [],
   "source": [
    "################################\n",
    "# Read data from custom filters\n",
    "################################\n",
    "\n",
    "#use loc - any attribute\n",
    "print(df.loc[ df['Type 1'] == 'Fire' ])  #print out all rows that has 'Type 1' == 'Fire'"
   ]
  },
  {
   "cell_type": "markdown",
   "metadata": {},
   "source": [
    "# 2. Describe Data\n",
    "**df.describe() method** gives you a very quick reference/summary to the data values     \n",
    "- count\n",
    "- mean\n",
    "- std\n",
    "- 25% percentile\n",
    "- 50% percentile\n",
    "- 75% percentile\n",
    "- max"
   ]
  },
  {
   "cell_type": "code",
   "execution_count": null,
   "metadata": {},
   "outputs": [],
   "source": [
    "df.describe()"
   ]
  },
  {
   "cell_type": "code",
   "execution_count": null,
   "metadata": {},
   "outputs": [],
   "source": [
    "# Getting specific attributes eg mean value of 'HP'\n",
    "df['HP'].describe().mean()"
   ]
  },
  {
   "cell_type": "markdown",
   "metadata": {},
   "source": [
    "# 3. Sorting Data"
   ]
  },
  {
   "cell_type": "code",
   "execution_count": null,
   "metadata": {},
   "outputs": [],
   "source": [
    "################################\n",
    "# Sort by One Attribute\n",
    "################################\n",
    "df.sort_values('Name') #sorts in alphabetical order"
   ]
  },
  {
   "cell_type": "code",
   "execution_count": null,
   "metadata": {},
   "outputs": [],
   "source": [
    "df.sort_values('Name', ascending = False)"
   ]
  },
  {
   "cell_type": "code",
   "execution_count": null,
   "metadata": {},
   "outputs": [],
   "source": [
    "################################\n",
    "# Sort by multiple Attributes\n",
    "################################\n",
    "df.sort_values(['Type 1', 'HP']) #sorts by 'Type 1' first, then sort by 'HP'"
   ]
  },
  {
   "cell_type": "code",
   "execution_count": null,
   "metadata": {},
   "outputs": [],
   "source": [
    "df.sort_values(['Type 1', 'HP'], ascending=[1,0]) # 'Type 1' ascending, 'HP' descending order"
   ]
  },
  {
   "cell_type": "markdown",
   "metadata": {},
   "source": [
    "# 4. Making Changes to Data"
   ]
  },
  {
   "cell_type": "code",
   "execution_count": null,
   "metadata": {},
   "outputs": [],
   "source": [
    "################################\n",
    "# Adding New Column into data\n",
    "################################\n",
    "\n",
    "df['Total'] = df['HP'] + df['Attack'] + df['Defense'] + df['Sp. Atk'] + df['Sp. Def'] + df['Speed']\n",
    "\n",
    "df['Total'] = df.iloc[:, 4:10].sum(axis=1) #from 'HP' to 'Speed' #axis=1 horizontally, axis=0 vertically"
   ]
  },
  {
   "cell_type": "code",
   "execution_count": null,
   "metadata": {},
   "outputs": [],
   "source": [
    "################################\n",
    "# Remove a specific Colum\n",
    "################################\n",
    "\n",
    "df = df.drop(columns = ['Total']) #need to update back to df"
   ]
  },
  {
   "cell_type": "code",
   "execution_count": null,
   "metadata": {},
   "outputs": [],
   "source": []
  },
  {
   "cell_type": "code",
   "execution_count": null,
   "metadata": {},
   "outputs": [],
   "source": []
  },
  {
   "cell_type": "code",
   "execution_count": null,
   "metadata": {},
   "outputs": [],
   "source": []
  }
 ],
 "metadata": {
  "kernelspec": {
   "display_name": "Python 3",
   "language": "python",
   "name": "python3"
  },
  "language_info": {
   "codemirror_mode": {
    "name": "ipython",
    "version": 3
   },
   "file_extension": ".py",
   "mimetype": "text/x-python",
   "name": "python",
   "nbconvert_exporter": "python",
   "pygments_lexer": "ipython3",
   "version": "3.7.4"
  }
 },
 "nbformat": 4,
 "nbformat_minor": 2
}
